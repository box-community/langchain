{
 "cells": [
  {
   "cell_type": "raw",
   "id": "e2ec34cb-bd12-490c-b25a-a2e189071cd1",
   "metadata": {
    "vscode": {
     "languageId": "raw"
    }
   },
   "source": [
    "---\n",
    "sidebar_label: Box Metadata Query\n",
    "---"
   ]
  },
  {
   "cell_type": "markdown",
   "id": "0138f015-babe-4834-a217-73329059db42",
   "metadata": {},
   "source": [
    "# Box Metadata Query Loader\n",
    "\n",
    "The Box Metadata Query document loader enables you to create Langchain `Document` objects containing any document that meets the Metadata Query filter. \n",
    "\n",
    "This notebook will help you get started with the `BoxMetadataQueryLoader`.\n",
    "\n",
    "## Setup\n",
    "\n",
    "### Installation\n",
    "\n",
    "The first step is to install the `langchain-box` package"
   ]
  },
  {
   "cell_type": "code",
   "execution_count": null,
   "id": "7ee8ccaf-4d2a-4b7f-9f53-e77ac376186a",
   "metadata": {},
   "outputs": [],
   "source": [
    "%pip install --upgrade --quiet langchain-box"
   ]
  },
  {
   "cell_type": "markdown",
   "id": "d016d418-a51f-4edc-a5e2-d2e975aea234",
   "metadata": {},
   "source": [
    "### Box setup\n",
    "\n",
    "In order to use the Box package, you will need a few things:\n",
    "\n",
    "* A Box account. For the Box AI connector, this must be an Enterprise Plus system. For the other tools, you can use a [free developer account](https://account.box.com/signup/n/developer#ty9l3).\n",
    "* [A Box app](https://developer.box.com/guides/getting-started/first-application/). This is configured in the [developer console](https://account.box.com/developers/console), and for Box AI, must have the `Manage AI` scope enabled. Here you will also select your authentication method\n",
    "* The app must be [enabled by the administrator](https://developer.box.com/guides/authorization/custom-app-approval/#manual-approval). For free developer accounts, this is whomever signed up for the account.\n",
    "\n",
    "## Examples\n",
    "\n",
    "For these examples, we will use [token authentication](https://developer.box.com/guides/authentication/tokens/developer-tokens). This can be used with any [authentication method](https://developer.box.com/guides/authentication/). Just get the token with whatever methodology.\n",
    "\n",
    "1. Set up your token"
   ]
  },
  {
   "cell_type": "code",
   "execution_count": null,
   "id": "b879676f-a43b-49a9-b45f-e06f9e76a719",
   "metadata": {},
   "outputs": [],
   "source": [
    "import getpass\n",
    "import os\n",
    "\n",
    "box_developer_token = getpass.getpass(\"Enter your Box Developer Token: \")"
   ]
  },
  {
   "cell_type": "markdown",
   "id": "ed65ae30-bb1c-4a6f-ba2c-719b10442b49",
   "metadata": {},
   "source": [
    "2. Import the libraries you need"
   ]
  },
  {
   "cell_type": "code",
   "execution_count": null,
   "id": "c84815a8-584b-4c9c-ad28-cdd5bb772c6d",
   "metadata": {},
   "outputs": [],
   "source": [
    "from langchain_box.document_loaders import BoxMetadataQueryLoader\n",
    "from langchain_box.utilities import BoxAuthType"
   ]
  },
  {
   "cell_type": "markdown",
   "id": "44316f28-5be1-42bd-975b-f240037aa538",
   "metadata": {},
   "source": [
    "3. Instantiate the loader\n",
    "\n",
    "This requires 4 pieces of information:\n",
    "* **box_metadata_template** (`str`)- This is the template key for the metadata template.\n",
    "* **box_metadata_query** (`str`)- This is the query you wish to run, containing a place holder for the specific value. It should be a field, a comparator, and then a variable preceded by a colon \n",
    "* **box_metadata_params** (`str`) - This is a stringified dict, containing the variable name and the value to replace it with in the query.\n",
    "* **box_enterprise_id** (`str`) - Your Box system's Enterprise ID"
   ]
  },
  {
   "cell_type": "code",
   "execution_count": null,
   "id": "fef61993-07e9-490b-b7eb-79594c03f462",
   "metadata": {},
   "outputs": [],
   "source": [
    "box_metadata_template = \"InvoicePO\"\n",
    "box_metadata_query = \"total >= :value\"\n",
    "box_metadata_params = '{ \"value\": \"100\" }'\n",
    "box_enterprise_id = \"899905961\"\n",
    "\n",
    "loader = BoxMetadataQueryLoader(\n",
    "    auth_type=BoxAuthType.TOKEN,\n",
    "    box_developer_token=box_developer_token,\n",
    "    box_metadata_template=box_metadata_template,\n",
    "    box_metadata_query=box_metadata_query,\n",
    "    box_metadata_params=box_metadata_params,\n",
    "    box_enterprise_id=box_enterprise_id,\n",
    ")"
   ]
  },
  {
   "cell_type": "markdown",
   "id": "b186cecc-f75c-403c-ace0-729446fa560f",
   "metadata": {},
   "source": [
    "4. Load the documents"
   ]
  },
  {
   "cell_type": "code",
   "execution_count": null,
   "id": "84645703-f7ae-4ef8-8bc3-98471a4d3f65",
   "metadata": {},
   "outputs": [],
   "source": [
    "documents = loader.load()"
   ]
  },
  {
   "cell_type": "markdown",
   "id": "8d56ca66-0e5b-4941-93e6-0c37a7e3065a",
   "metadata": {},
   "source": [
    "For completeness, we can now print out `documents` to see the result."
   ]
  },
  {
   "cell_type": "code",
   "execution_count": null,
   "id": "f94172e7-298f-4115-8dba-dfb9806be1a1",
   "metadata": {},
   "outputs": [],
   "source": [
    "print(f\"documents = {documents}\")"
   ]
  },
  {
   "cell_type": "markdown",
   "id": "126d2c9e-f5e5-4d8f-9718-964a76a45fd2",
   "metadata": {},
   "source": [
    "## API reference\n",
    "\n",
    "For detailed documentation of all `BoxMetadataQueryLoader` features and configurations head to the API reference: https://api.python.langchain.com/en/latest/document_loaders/langchain_box.document_loaders.BoxMetadataQueryLoader.html\n",
    "\n",
    "## Help\n",
    "\n",
    "If you have questions, you can check out our [developer documentation](https://developer.box.com) or reach out to use in our [developer community](https://community.box.com)."
   ]
  }
 ],
 "metadata": {
  "kernelspec": {
   "display_name": "Python 3 (ipykernel)",
   "language": "python",
   "name": "python3"
  },
  "language_info": {
   "codemirror_mode": {
    "name": "ipython",
    "version": 3
   },
   "file_extension": ".py",
   "mimetype": "text/x-python",
   "name": "python",
   "nbconvert_exporter": "python",
   "pygments_lexer": "ipython3",
   "version": "3.11.6"
  }
 },
 "nbformat": 4,
 "nbformat_minor": 5
}
