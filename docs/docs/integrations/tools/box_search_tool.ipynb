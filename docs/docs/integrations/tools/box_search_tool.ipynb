{
 "cells": [
  {
   "cell_type": "raw",
   "id": "9d1ac851-bd00-48cd-af83-4634d962f70b",
   "metadata": {
    "vscode": {
     "languageId": "raw"
    }
   },
   "source": [
    "---\n",
    "sidebar_label: Box Search\n",
    "---"
   ]
  },
  {
   "cell_type": "markdown",
   "id": "73e1058a-be28-45bc-b1f6-e2333f7edf84",
   "metadata": {},
   "source": [
    "# Box Search Tool\n",
    "\n",
    "The Box Search tool enables you to create Langchain `Document` objects for each of the documents returned by the search query. This currently only supports files with a text representation.\n",
    "\n",
    "> [!CAUTION]\n",
    "> Box search is a full text search. This loader can return a lot of documents. Be sure to make your search query as specific as possible to avoid too many documents being returned\n",
    "\n",
    "This notebook will help you get started with the `BoxFileSearchTool`.\n",
    "\n",
    "## Setup\n",
    "\n",
    "### Installation\n",
    "\n",
    "The first step is to install the `langchain-box` package"
   ]
  },
  {
   "cell_type": "code",
   "execution_count": null,
   "id": "6c88a67d-6aee-4076-ae6c-bd2d6d091736",
   "metadata": {},
   "outputs": [],
   "source": [
    "%pip install --upgrade --quiet langchain-box"
   ]
  },
  {
   "cell_type": "markdown",
   "id": "7a3f5fec-3470-4490-8990-736d20838ff4",
   "metadata": {},
   "source": [
    "### Box setup\n",
    "\n",
    "In order to use the Box package, you will need a few things:\n",
    "\n",
    "* A Box account. For the Box AI connector, this must be an Enterprise Plus system. For the other tools, you can use a [free developer account](https://account.box.com/signup/n/developer#ty9l3).\n",
    "* [A Box app](https://developer.box.com/guides/getting-started/first-application/). This is configured in the [developer console](https://account.box.com/developers/console), and for Box AI, must have the `Manage AI` scope enabled. Here you will also select your authentication method\n",
    "* The app must be [enabled by the administrator](https://developer.box.com/guides/authorization/custom-app-approval/#manual-approval). For free developer accounts, this is whomever signed up for the account.\n",
    "\n",
    "## Examples\n",
    "\n",
    "For these examples, we will use [token authentication](https://developer.box.com/guides/authentication/tokens/developer-tokens). This can be used with any [authentication method](https://developer.box.com/guides/authentication/). Just get the token with whatever methodology.\n",
    "\n",
    "1. Set up your token"
   ]
  },
  {
   "cell_type": "code",
   "execution_count": null,
   "id": "3ebf834a-bc59-49e4-8f94-a932f8cbe884",
   "metadata": {},
   "outputs": [],
   "source": [
    "import getpass\n",
    "import os\n",
    "\n",
    "os.environ[\"BOX_DEVELOPER_TOKEN\"] = getpass.getpass(\"Enter your Box Developer Token: \")"
   ]
  },
  {
   "cell_type": "markdown",
   "id": "79bb1e4d-8935-401e-8387-49fff7fe0111",
   "metadata": {},
   "source": [
    "2. Import the libraries you need"
   ]
  },
  {
   "cell_type": "code",
   "execution_count": null,
   "id": "c2785401-0ffe-4aa3-a9a5-560d5f0091c2",
   "metadata": {},
   "outputs": [],
   "source": [
    "from langchain_box.tools import BoxFileSearchTool"
   ]
  },
  {
   "cell_type": "markdown",
   "id": "78a3dc89-59e4-46d4-807f-86a7c26ca070",
   "metadata": {},
   "source": [
    "3. Instantiate the tool"
   ]
  },
  {
   "cell_type": "code",
   "execution_count": null,
   "id": "966cb504-3a1a-48be-ab3e-f1fcfccec89a",
   "metadata": {},
   "outputs": [],
   "source": [
    "box_search_tool = BoxFileSearchTool()"
   ]
  },
  {
   "cell_type": "markdown",
   "id": "c2adc40e-b881-446d-822b-83d3e8982a5e",
   "metadata": {},
   "source": [
    "From here, you can bind the tool with your favorite agent and the agent will identify the query to ask about the files.\n",
    "\n",
    "As an example:"
   ]
  },
  {
   "cell_type": "code",
   "execution_count": null,
   "id": "7f81b52a-c5d9-4cd9-8346-b1e07791ff66",
   "metadata": {},
   "outputs": [],
   "source": [
    "tools = [box_search_tool]\n",
    "\n",
    "model = ChatOpenAI(model=\"gpt-4\")\n",
    "\n",
    "agent_executor = create_react_agent(model, tools)\n",
    "\n",
    "prompt = (\n",
    "    f\"find a document containing \\\"EXT. 8TH STREET BETWEEN AVENUES C AND D - DAY\\\". If there are multiple documents returned,\"\n",
    "     \"choose only the document titled FIVE FEET AND RISING by Peter Sollett. Then create a script for a voiceover based on the document for a 30\"\n",
    "     \"second commercial. The content of this commercial should entice a viewer to want to see the movie.\"\n",
    "     \"The voice should be that of a professional voice over actor, and the tone should be excited.\"\n",
    ")\n",
    "\n",
    "for chunk in agent_executor.stream(\n",
    "    {\"messages\": [HumanMessage(content=prompt)]}\n",
    "):\n",
    "    print(chunk)\n",
    "    print(\"----\")"
   ]
  },
  {
   "cell_type": "markdown",
   "id": "4775b1e2-d883-424c-8cf4-2ce3c98f28a1",
   "metadata": {},
   "source": [
    "## API reference\n",
    "\n",
    "For detailed documentation of all `BoxFileSearchTool` features and configurations head to the [API reference](https://api.python.langchain.com/en/latest/tools/langchain_box.tools.BoxFileSearchTool.html).\n",
    "\n",
    "## Help\n",
    "\n",
    "If you have questions, you can check out our [developer documentation](https://developer.box.com) or reach out to use in our [developer community](https://community.box.com)."
   ]
  }
 ],
 "metadata": {
  "kernelspec": {
   "display_name": "Python 3 (ipykernel)",
   "language": "python",
   "name": "python3"
  },
  "language_info": {
   "codemirror_mode": {
    "name": "ipython",
    "version": 3
   },
   "file_extension": ".py",
   "mimetype": "text/x-python",
   "name": "python",
   "nbconvert_exporter": "python",
   "pygments_lexer": "ipython3",
   "version": "3.11.6"
  }
 },
 "nbformat": 4,
 "nbformat_minor": 5
}
